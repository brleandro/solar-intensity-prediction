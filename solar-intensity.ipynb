{
 "cells": [
  {
   "cell_type": "code",
   "execution_count": 2,
   "outputs": [],
   "source": [
    "import h5pyd\n",
    "import numpy as np\n",
    "import pandas as pd\n",
    "import matplotlib.pyplot as plt\n",
    "import matplotlib.image as mpimg\n",
    "from scipy.spatial import cKDTree"
   ],
   "metadata": {
    "collapsed": false,
    "pycharm": {
     "name": "#%%\n",
     "is_executing": false
    }
   }
  },
  {
   "cell_type": "code",
   "execution_count": 105,
   "outputs": [
    {
     "name": "stdout",
     "text": [
      "<class 'pandas.core.frame.DataFrame'>\nRangeIndex: 17520 entries, 0 to 17519\nData columns (total 25 columns):\n #   Column                                       Non-Null Count  Dtype  \n---  ------                                       --------------  -----  \n 0   Year                                         17520 non-null  int64  \n 1   Month                                        17520 non-null  int64  \n 2   Day                                          17520 non-null  int64  \n 3   Hour                                         17520 non-null  int64  \n 4   Minute                                       17520 non-null  int64  \n 5   DHI                                          17520 non-null  int64  \n 6   DNI                                          17520 non-null  int64  \n 7   GHI                                          17520 non-null  int64  \n 8   Clearsky DHI                                 17520 non-null  int64  \n 9   Clearsky DNI                                 17520 non-null  int64  \n 10  Clearsky GHI                                 17520 non-null  int64  \n 11  Cloud Type                                   17520 non-null  int64  \n 12  Dew Point                                    17520 non-null  float64\n 13  Solar Zenith Angle                           17520 non-null  float64\n 14  Fill Flag                                    17520 non-null  int64  \n 15  Surface Albedo                               17520 non-null  float64\n 16  Wind Speed                                   17520 non-null  float64\n 17  Precipitable Water                           17520 non-null  float64\n 18  Wind Direction                               17520 non-null  int64  \n 19  Relative Humidity                            17520 non-null  float64\n 20  Temperature                                  17520 non-null  float64\n 21  Pressure                                     17520 non-null  int64  \n 22  Global Horizontal UV Irradiance (280-400nm)  17520 non-null  float64\n 23  Global Horizontal UV Irradiance (295-385nm)  17520 non-null  float64\n 24  Unnamed: 24                                  0 non-null      float64\ndtypes: float64(10), int64(15)\nmemory usage: 3.3 MB\n<class 'pandas.core.frame.DataFrame'>\nRangeIndex: 1 entries, 0 to 0\nData columns (total 46 columns):\n #   Column                    Non-Null Count  Dtype  \n---  ------                    --------------  -----  \n 0   Source                    1 non-null      object \n 1   Location ID               1 non-null      int64  \n 2   City                      1 non-null      object \n 3   State                     1 non-null      object \n 4   Country                   1 non-null      object \n 5   Latitude                  1 non-null      float64\n 6   Longitude                 1 non-null      float64\n 7   Time Zone                 1 non-null      int64  \n 8   Elevation                 1 non-null      int64  \n 9   Local Time Zone           1 non-null      int64  \n 10  Clearsky DHI Units        1 non-null      object \n 11  Clearsky DNI Units        1 non-null      object \n 12  Clearsky GHI Units        1 non-null      object \n 13  Dew Point Units           1 non-null      object \n 14  DHI Units                 1 non-null      object \n 15  DNI Units                 1 non-null      object \n 16  GHI Units                 1 non-null      object \n 17  Solar Zenith Angle Units  1 non-null      object \n 18  Temperature Units         1 non-null      object \n 19  Pressure Units            1 non-null      object \n 20  Relative Humidity Units   1 non-null      object \n 21  Precipitable Water Units  1 non-null      object \n 22  Wind Direction Units      1 non-null      object \n 23  Wind Speed                1 non-null      object \n 24  Cloud Type -15            0 non-null      float64\n 25  Cloud Type 0              1 non-null      object \n 26  Cloud Type 1              1 non-null      object \n 27  Cloud Type 2              1 non-null      object \n 28  Cloud Type 3              1 non-null      object \n 29  Cloud Type 4              1 non-null      object \n 30  Cloud Type 5              1 non-null      object \n 31  Cloud Type 6              1 non-null      object \n 32  Cloud Type 7              1 non-null      object \n 33  Cloud Type 8              1 non-null      object \n 34  Cloud Type 9              1 non-null      object \n 35  Cloud Type 10             1 non-null      object \n 36  Cloud Type 11             1 non-null      object \n 37  Cloud Type 12             1 non-null      object \n 38  Fill Flag 0               0 non-null      float64\n 39  Fill Flag 1               1 non-null      object \n 40  Fill Flag 2               1 non-null      object \n 41  Fill Flag 3               1 non-null      object \n 42  Fill Flag 4               1 non-null      object \n 43  Fill Flag 5               1 non-null      object \n 44  Surface Albedo Units      0 non-null      float64\n 45  Version                   1 non-null      object \ndtypes: float64(5), int64(4), object(37)\nmemory usage: 496.0+ bytes\n"
     ],
     "output_type": "stream"
    }
   ],
   "source": [
    "#J82JWhLzSODJvD9bnMurt7EV35121qTaI65ci6Ph\n",
    "# Open the desired year of nsrdb data\n",
    "# server endpoint, username, password is found via a config file\n",
    "df = pd.read_csv ('./dataset/1060699_25.77_-80.18_2019.csv', skiprows=[0,1])\n",
    "df.info()\n",
    "\n",
    "df_header = pd.read_csv ('./dataset/1060699_25.77_-80.18_2019.csv',nrows=1)\n",
    "df_header.info()\n",
    "pd.set_option('display.max_columns', None)  "
   ],
   "metadata": {
    "collapsed": false,
    "pycharm": {
     "name": "#%%\n",
     "is_executing": false
    }
   }
  },
  {
   "cell_type": "code",
   "execution_count": 106,
   "outputs": [
    {
     "data": {
      "text/plain": "  Source  Location ID City State Country  Latitude  Longitude  Time Zone  \\\n0  NSRDB  1060699      -    -     -       25.77    -80.18     -5           \n\n   Elevation  Local Time Zone Clearsky DHI Units Clearsky DNI Units  \\\n0  0         -5                w/m2               w/m2                \n\n  Clearsky GHI Units Dew Point Units DHI Units DNI Units GHI Units  \\\n0  w/m2               c               w/m2      w/m2      w/m2       \n\n  Solar Zenith Angle Units Temperature Units Pressure Units  \\\n0  Degree                   c                 mbar            \n\n  Relative Humidity Units Precipitable Water Units Wind Direction Units  \\\n0  %                       cm                       Degrees               \n\n  Wind Speed  Cloud Type -15 Cloud Type 0    Cloud Type 1 Cloud Type 2  \\\n0  m/s       NaN              Clear        Probably Clear  Fog           \n\n  Cloud Type 3        Cloud Type 4 Cloud Type 5 Cloud Type 6 Cloud Type 7  \\\n0  Water        Super-Cooled Water  Mixed        Opaque Ice   Cirrus        \n\n  Cloud Type 8  Cloud Type 9 Cloud Type 10 Cloud Type 11 Cloud Type 12  \\\n0  Overlapping  Overshooting  Unknown       Dust          Smoke          \n\n   Fill Flag 0    Fill Flag 1     Fill Flag 2       Fill Flag 3  \\\n0 NaN           Missing Image  Low Irradiance  Exceeds Clearsky   \n\n                Fill Flag 4         Fill Flag 5  Surface Albedo Units Version  \n0  Missing CLoud Properties  Rayleigh Violation NaN                    3.1.1   ",
      "text/html": "<div>\n<style scoped>\n    .dataframe tbody tr th:only-of-type {\n        vertical-align: middle;\n    }\n\n    .dataframe tbody tr th {\n        vertical-align: top;\n    }\n\n    .dataframe thead th {\n        text-align: right;\n    }\n</style>\n<table border=\"1\" class=\"dataframe\">\n  <thead>\n    <tr style=\"text-align: right;\">\n      <th></th>\n      <th>Source</th>\n      <th>Location ID</th>\n      <th>City</th>\n      <th>State</th>\n      <th>Country</th>\n      <th>Latitude</th>\n      <th>Longitude</th>\n      <th>Time Zone</th>\n      <th>Elevation</th>\n      <th>Local Time Zone</th>\n      <th>Clearsky DHI Units</th>\n      <th>Clearsky DNI Units</th>\n      <th>Clearsky GHI Units</th>\n      <th>Dew Point Units</th>\n      <th>DHI Units</th>\n      <th>DNI Units</th>\n      <th>GHI Units</th>\n      <th>Solar Zenith Angle Units</th>\n      <th>Temperature Units</th>\n      <th>Pressure Units</th>\n      <th>Relative Humidity Units</th>\n      <th>Precipitable Water Units</th>\n      <th>Wind Direction Units</th>\n      <th>Wind Speed</th>\n      <th>Cloud Type -15</th>\n      <th>Cloud Type 0</th>\n      <th>Cloud Type 1</th>\n      <th>Cloud Type 2</th>\n      <th>Cloud Type 3</th>\n      <th>Cloud Type 4</th>\n      <th>Cloud Type 5</th>\n      <th>Cloud Type 6</th>\n      <th>Cloud Type 7</th>\n      <th>Cloud Type 8</th>\n      <th>Cloud Type 9</th>\n      <th>Cloud Type 10</th>\n      <th>Cloud Type 11</th>\n      <th>Cloud Type 12</th>\n      <th>Fill Flag 0</th>\n      <th>Fill Flag 1</th>\n      <th>Fill Flag 2</th>\n      <th>Fill Flag 3</th>\n      <th>Fill Flag 4</th>\n      <th>Fill Flag 5</th>\n      <th>Surface Albedo Units</th>\n      <th>Version</th>\n    </tr>\n  </thead>\n  <tbody>\n    <tr>\n      <th>0</th>\n      <td>NSRDB</td>\n      <td>1060699</td>\n      <td>-</td>\n      <td>-</td>\n      <td>-</td>\n      <td>25.77</td>\n      <td>-80.18</td>\n      <td>-5</td>\n      <td>0</td>\n      <td>-5</td>\n      <td>w/m2</td>\n      <td>w/m2</td>\n      <td>w/m2</td>\n      <td>c</td>\n      <td>w/m2</td>\n      <td>w/m2</td>\n      <td>w/m2</td>\n      <td>Degree</td>\n      <td>c</td>\n      <td>mbar</td>\n      <td>%</td>\n      <td>cm</td>\n      <td>Degrees</td>\n      <td>m/s</td>\n      <td>NaN</td>\n      <td>Clear</td>\n      <td>Probably Clear</td>\n      <td>Fog</td>\n      <td>Water</td>\n      <td>Super-Cooled Water</td>\n      <td>Mixed</td>\n      <td>Opaque Ice</td>\n      <td>Cirrus</td>\n      <td>Overlapping</td>\n      <td>Overshooting</td>\n      <td>Unknown</td>\n      <td>Dust</td>\n      <td>Smoke</td>\n      <td>NaN</td>\n      <td>Missing Image</td>\n      <td>Low Irradiance</td>\n      <td>Exceeds Clearsky</td>\n      <td>Missing CLoud Properties</td>\n      <td>Rayleigh Violation</td>\n      <td>NaN</td>\n      <td>3.1.1</td>\n    </tr>\n  </tbody>\n</table>\n</div>"
     },
     "metadata": {},
     "output_type": "execute_result",
     "execution_count": 106
    }
   ],
   "source": [
    "df_header.head()"
   ],
   "metadata": {
    "collapsed": false,
    "pycharm": {
     "name": "#%%\n",
     "is_executing": false
    }
   }
  },
  {
   "cell_type": "code",
   "execution_count": 107,
   "outputs": [
    {
     "data": {
      "text/plain": "   Year  Month  Day  Hour  Minute  DHI  DNI  GHI  Clearsky DHI  Clearsky DNI  \\\n0  2019  1      1    0     0       0    0    0    0             0              \n1  2019  1      1    0     30      0    0    0    0             0              \n2  2019  1      1    1     0       0    0    0    0             0              \n3  2019  1      1    1     30      0    0    0    0             0              \n4  2019  1      1    2     0       0    0    0    0             0              \n\n   Clearsky GHI  Cloud Type  Dew Point  Solar Zenith Angle  Fill Flag  \\\n0  0             0           21.8       173.88              0           \n1  0             0           21.8       176.95              0           \n2  0             0           21.7       171.38              0           \n3  0             0           21.7       164.76              0           \n4  0             0           21.5       158.02              0           \n\n   Surface Albedo  Wind Speed  Precipitable Water  Wind Direction  \\\n0  0.08            3.7         2.4                 128              \n1  0.08            3.6         2.4                 128              \n2  0.08            3.6         2.4                 127              \n3  0.08            3.5         2.4                 126              \n4  0.08            3.5         2.4                 126              \n\n   Relative Humidity  Temperature  Pressure  \\\n0  87.10              24.1         1019       \n1  87.10              24.1         1019       \n2  86.53              24.1         1019       \n3  86.53              24.1         1019       \n4  85.94              24.0         1019       \n\n   Global Horizontal UV Irradiance (280-400nm)  \\\n0  0.0                                           \n1  0.0                                           \n2  0.0                                           \n3  0.0                                           \n4  0.0                                           \n\n   Global Horizontal UV Irradiance (295-385nm)  Unnamed: 24  \n0  0.0                                         NaN           \n1  0.0                                         NaN           \n2  0.0                                         NaN           \n3  0.0                                         NaN           \n4  0.0                                         NaN           ",
      "text/html": "<div>\n<style scoped>\n    .dataframe tbody tr th:only-of-type {\n        vertical-align: middle;\n    }\n\n    .dataframe tbody tr th {\n        vertical-align: top;\n    }\n\n    .dataframe thead th {\n        text-align: right;\n    }\n</style>\n<table border=\"1\" class=\"dataframe\">\n  <thead>\n    <tr style=\"text-align: right;\">\n      <th></th>\n      <th>Year</th>\n      <th>Month</th>\n      <th>Day</th>\n      <th>Hour</th>\n      <th>Minute</th>\n      <th>DHI</th>\n      <th>DNI</th>\n      <th>GHI</th>\n      <th>Clearsky DHI</th>\n      <th>Clearsky DNI</th>\n      <th>Clearsky GHI</th>\n      <th>Cloud Type</th>\n      <th>Dew Point</th>\n      <th>Solar Zenith Angle</th>\n      <th>Fill Flag</th>\n      <th>Surface Albedo</th>\n      <th>Wind Speed</th>\n      <th>Precipitable Water</th>\n      <th>Wind Direction</th>\n      <th>Relative Humidity</th>\n      <th>Temperature</th>\n      <th>Pressure</th>\n      <th>Global Horizontal UV Irradiance (280-400nm)</th>\n      <th>Global Horizontal UV Irradiance (295-385nm)</th>\n      <th>Unnamed: 24</th>\n    </tr>\n  </thead>\n  <tbody>\n    <tr>\n      <th>0</th>\n      <td>2019</td>\n      <td>1</td>\n      <td>1</td>\n      <td>0</td>\n      <td>0</td>\n      <td>0</td>\n      <td>0</td>\n      <td>0</td>\n      <td>0</td>\n      <td>0</td>\n      <td>0</td>\n      <td>0</td>\n      <td>21.8</td>\n      <td>173.88</td>\n      <td>0</td>\n      <td>0.08</td>\n      <td>3.7</td>\n      <td>2.4</td>\n      <td>128</td>\n      <td>87.10</td>\n      <td>24.1</td>\n      <td>1019</td>\n      <td>0.0</td>\n      <td>0.0</td>\n      <td>NaN</td>\n    </tr>\n    <tr>\n      <th>1</th>\n      <td>2019</td>\n      <td>1</td>\n      <td>1</td>\n      <td>0</td>\n      <td>30</td>\n      <td>0</td>\n      <td>0</td>\n      <td>0</td>\n      <td>0</td>\n      <td>0</td>\n      <td>0</td>\n      <td>0</td>\n      <td>21.8</td>\n      <td>176.95</td>\n      <td>0</td>\n      <td>0.08</td>\n      <td>3.6</td>\n      <td>2.4</td>\n      <td>128</td>\n      <td>87.10</td>\n      <td>24.1</td>\n      <td>1019</td>\n      <td>0.0</td>\n      <td>0.0</td>\n      <td>NaN</td>\n    </tr>\n    <tr>\n      <th>2</th>\n      <td>2019</td>\n      <td>1</td>\n      <td>1</td>\n      <td>1</td>\n      <td>0</td>\n      <td>0</td>\n      <td>0</td>\n      <td>0</td>\n      <td>0</td>\n      <td>0</td>\n      <td>0</td>\n      <td>0</td>\n      <td>21.7</td>\n      <td>171.38</td>\n      <td>0</td>\n      <td>0.08</td>\n      <td>3.6</td>\n      <td>2.4</td>\n      <td>127</td>\n      <td>86.53</td>\n      <td>24.1</td>\n      <td>1019</td>\n      <td>0.0</td>\n      <td>0.0</td>\n      <td>NaN</td>\n    </tr>\n    <tr>\n      <th>3</th>\n      <td>2019</td>\n      <td>1</td>\n      <td>1</td>\n      <td>1</td>\n      <td>30</td>\n      <td>0</td>\n      <td>0</td>\n      <td>0</td>\n      <td>0</td>\n      <td>0</td>\n      <td>0</td>\n      <td>0</td>\n      <td>21.7</td>\n      <td>164.76</td>\n      <td>0</td>\n      <td>0.08</td>\n      <td>3.5</td>\n      <td>2.4</td>\n      <td>126</td>\n      <td>86.53</td>\n      <td>24.1</td>\n      <td>1019</td>\n      <td>0.0</td>\n      <td>0.0</td>\n      <td>NaN</td>\n    </tr>\n    <tr>\n      <th>4</th>\n      <td>2019</td>\n      <td>1</td>\n      <td>1</td>\n      <td>2</td>\n      <td>0</td>\n      <td>0</td>\n      <td>0</td>\n      <td>0</td>\n      <td>0</td>\n      <td>0</td>\n      <td>0</td>\n      <td>0</td>\n      <td>21.5</td>\n      <td>158.02</td>\n      <td>0</td>\n      <td>0.08</td>\n      <td>3.5</td>\n      <td>2.4</td>\n      <td>126</td>\n      <td>85.94</td>\n      <td>24.0</td>\n      <td>1019</td>\n      <td>0.0</td>\n      <td>0.0</td>\n      <td>NaN</td>\n    </tr>\n  </tbody>\n</table>\n</div>"
     },
     "metadata": {},
     "output_type": "execute_result",
     "execution_count": 107
    }
   ],
   "source": [
    "df.head()"
   ],
   "metadata": {
    "collapsed": false,
    "pycharm": {
     "name": "#%%\n",
     "is_executing": false
    }
   }
  },
  {
   "cell_type": "code",
   "execution_count": 108,
   "outputs": [
    {
     "data": {
      "text/plain": "   Year  Month  Day  Hour  Minute  Surface Albedo  Cloud Type  Dew Point  \\\n0  2019  1      1    0     0       0.08            0           21.8        \n1  2019  1      1    0     30      0.08            0           21.8        \n2  2019  1      1    1     0       0.08            0           21.7        \n3  2019  1      1    1     30      0.08            0           21.7        \n4  2019  1      1    2     0       0.08            0           21.5        \n\n   Solar Zenith Angle  Pressure  Wind Direction  Wind Speed  \\\n0  173.88              1019      128             3.7          \n1  176.95              1019      128             3.6          \n2  171.38              1019      127             3.6          \n3  164.76              1019      126             3.5          \n4  158.02              1019      126             3.5          \n\n   Relative Humidity  Temperature  Precipitable Water  GHI  \n0  87.10              24.1         2.4                 0    \n1  87.10              24.1         2.4                 0    \n2  86.53              24.1         2.4                 0    \n3  86.53              24.1         2.4                 0    \n4  85.94              24.0         2.4                 0    ",
      "text/html": "<div>\n<style scoped>\n    .dataframe tbody tr th:only-of-type {\n        vertical-align: middle;\n    }\n\n    .dataframe tbody tr th {\n        vertical-align: top;\n    }\n\n    .dataframe thead th {\n        text-align: right;\n    }\n</style>\n<table border=\"1\" class=\"dataframe\">\n  <thead>\n    <tr style=\"text-align: right;\">\n      <th></th>\n      <th>Year</th>\n      <th>Month</th>\n      <th>Day</th>\n      <th>Hour</th>\n      <th>Minute</th>\n      <th>Surface Albedo</th>\n      <th>Cloud Type</th>\n      <th>Dew Point</th>\n      <th>Solar Zenith Angle</th>\n      <th>Pressure</th>\n      <th>Wind Direction</th>\n      <th>Wind Speed</th>\n      <th>Relative Humidity</th>\n      <th>Temperature</th>\n      <th>Precipitable Water</th>\n      <th>GHI</th>\n    </tr>\n  </thead>\n  <tbody>\n    <tr>\n      <th>0</th>\n      <td>2019</td>\n      <td>1</td>\n      <td>1</td>\n      <td>0</td>\n      <td>0</td>\n      <td>0.08</td>\n      <td>0</td>\n      <td>21.8</td>\n      <td>173.88</td>\n      <td>1019</td>\n      <td>128</td>\n      <td>3.7</td>\n      <td>87.10</td>\n      <td>24.1</td>\n      <td>2.4</td>\n      <td>0</td>\n    </tr>\n    <tr>\n      <th>1</th>\n      <td>2019</td>\n      <td>1</td>\n      <td>1</td>\n      <td>0</td>\n      <td>30</td>\n      <td>0.08</td>\n      <td>0</td>\n      <td>21.8</td>\n      <td>176.95</td>\n      <td>1019</td>\n      <td>128</td>\n      <td>3.6</td>\n      <td>87.10</td>\n      <td>24.1</td>\n      <td>2.4</td>\n      <td>0</td>\n    </tr>\n    <tr>\n      <th>2</th>\n      <td>2019</td>\n      <td>1</td>\n      <td>1</td>\n      <td>1</td>\n      <td>0</td>\n      <td>0.08</td>\n      <td>0</td>\n      <td>21.7</td>\n      <td>171.38</td>\n      <td>1019</td>\n      <td>127</td>\n      <td>3.6</td>\n      <td>86.53</td>\n      <td>24.1</td>\n      <td>2.4</td>\n      <td>0</td>\n    </tr>\n    <tr>\n      <th>3</th>\n      <td>2019</td>\n      <td>1</td>\n      <td>1</td>\n      <td>1</td>\n      <td>30</td>\n      <td>0.08</td>\n      <td>0</td>\n      <td>21.7</td>\n      <td>164.76</td>\n      <td>1019</td>\n      <td>126</td>\n      <td>3.5</td>\n      <td>86.53</td>\n      <td>24.1</td>\n      <td>2.4</td>\n      <td>0</td>\n    </tr>\n    <tr>\n      <th>4</th>\n      <td>2019</td>\n      <td>1</td>\n      <td>1</td>\n      <td>2</td>\n      <td>0</td>\n      <td>0.08</td>\n      <td>0</td>\n      <td>21.5</td>\n      <td>158.02</td>\n      <td>1019</td>\n      <td>126</td>\n      <td>3.5</td>\n      <td>85.94</td>\n      <td>24.0</td>\n      <td>2.4</td>\n      <td>0</td>\n    </tr>\n  </tbody>\n</table>\n</div>"
     },
     "metadata": {},
     "output_type": "execute_result",
     "execution_count": 108
    }
   ],
   "source": [
    "df = df[['Year','Month', 'Day', 'Hour', 'Minute','Surface Albedo','Cloud Type', \n",
    "    'Dew Point', 'Solar Zenith Angle', 'Pressure', 'Wind Direction', 'Wind Speed', \n",
    "    'Relative Humidity', 'Temperature', 'Precipitable Water', 'GHI']]\n",
    "df.head()"
   ],
   "metadata": {
    "collapsed": false,
    "pycharm": {
     "name": "#%%\n",
     "is_executing": false
    }
   }
  },
  {
   "cell_type": "code",
   "execution_count": 109,
   "outputs": [
    {
     "data": {
      "text/plain": "    Year  Month  Day  Hour  Minute  Surface Albedo  Cloud Type  Dew Point  \\\n12  2019  1      1    6     0       0.08            0           20.7        \n13  2019  1      1    6     30      0.08            0           20.8        \n14  2019  1      1    7     0       0.08            3           20.8        \n15  2019  1      1    7     30      0.08            0           20.8        \n16  2019  1      1    8     0       0.08            0           20.9        \n\n    Solar Zenith Angle  Pressure  Wind Direction  Wind Speed  \\\n12  104.90              1019      125             4.0          \n13  98.56               1020      126             4.1          \n14  92.34               1020      127             4.3          \n15  86.09               1020      129             4.5          \n16  80.32               1020      130             4.8          \n\n    Relative Humidity  Temperature  Precipitable Water  GHI  \n12  82.54              23.9         2.4                 0    \n13  82.13              24.0         2.4                 0    \n14  81.93              24.1         2.4                 2    \n15  80.00              24.5         2.4                 45   \n16  78.72              24.9         2.4                 90   ",
      "text/html": "<div>\n<style scoped>\n    .dataframe tbody tr th:only-of-type {\n        vertical-align: middle;\n    }\n\n    .dataframe tbody tr th {\n        vertical-align: top;\n    }\n\n    .dataframe thead th {\n        text-align: right;\n    }\n</style>\n<table border=\"1\" class=\"dataframe\">\n  <thead>\n    <tr style=\"text-align: right;\">\n      <th></th>\n      <th>Year</th>\n      <th>Month</th>\n      <th>Day</th>\n      <th>Hour</th>\n      <th>Minute</th>\n      <th>Surface Albedo</th>\n      <th>Cloud Type</th>\n      <th>Dew Point</th>\n      <th>Solar Zenith Angle</th>\n      <th>Pressure</th>\n      <th>Wind Direction</th>\n      <th>Wind Speed</th>\n      <th>Relative Humidity</th>\n      <th>Temperature</th>\n      <th>Precipitable Water</th>\n      <th>GHI</th>\n    </tr>\n  </thead>\n  <tbody>\n    <tr>\n      <th>12</th>\n      <td>2019</td>\n      <td>1</td>\n      <td>1</td>\n      <td>6</td>\n      <td>0</td>\n      <td>0.08</td>\n      <td>0</td>\n      <td>20.7</td>\n      <td>104.90</td>\n      <td>1019</td>\n      <td>125</td>\n      <td>4.0</td>\n      <td>82.54</td>\n      <td>23.9</td>\n      <td>2.4</td>\n      <td>0</td>\n    </tr>\n    <tr>\n      <th>13</th>\n      <td>2019</td>\n      <td>1</td>\n      <td>1</td>\n      <td>6</td>\n      <td>30</td>\n      <td>0.08</td>\n      <td>0</td>\n      <td>20.8</td>\n      <td>98.56</td>\n      <td>1020</td>\n      <td>126</td>\n      <td>4.1</td>\n      <td>82.13</td>\n      <td>24.0</td>\n      <td>2.4</td>\n      <td>0</td>\n    </tr>\n    <tr>\n      <th>14</th>\n      <td>2019</td>\n      <td>1</td>\n      <td>1</td>\n      <td>7</td>\n      <td>0</td>\n      <td>0.08</td>\n      <td>3</td>\n      <td>20.8</td>\n      <td>92.34</td>\n      <td>1020</td>\n      <td>127</td>\n      <td>4.3</td>\n      <td>81.93</td>\n      <td>24.1</td>\n      <td>2.4</td>\n      <td>2</td>\n    </tr>\n    <tr>\n      <th>15</th>\n      <td>2019</td>\n      <td>1</td>\n      <td>1</td>\n      <td>7</td>\n      <td>30</td>\n      <td>0.08</td>\n      <td>0</td>\n      <td>20.8</td>\n      <td>86.09</td>\n      <td>1020</td>\n      <td>129</td>\n      <td>4.5</td>\n      <td>80.00</td>\n      <td>24.5</td>\n      <td>2.4</td>\n      <td>45</td>\n    </tr>\n    <tr>\n      <th>16</th>\n      <td>2019</td>\n      <td>1</td>\n      <td>1</td>\n      <td>8</td>\n      <td>0</td>\n      <td>0.08</td>\n      <td>0</td>\n      <td>20.9</td>\n      <td>80.32</td>\n      <td>1020</td>\n      <td>130</td>\n      <td>4.8</td>\n      <td>78.72</td>\n      <td>24.9</td>\n      <td>2.4</td>\n      <td>90</td>\n    </tr>\n  </tbody>\n</table>\n</div>"
     },
     "metadata": {},
     "output_type": "execute_result",
     "execution_count": 109
    }
   ],
   "source": [
    "df = df[(df['Hour'] < 22) & (df['Hour'] > 5)]\n",
    "df.head()"
   ],
   "metadata": {
    "collapsed": false,
    "pycharm": {
     "name": "#%%\n",
     "is_executing": false
    }
   }
  },
  {
   "cell_type": "code",
   "execution_count": 110,
   "outputs": [
    {
     "data": {
      "text/plain": "(11680, 16)"
     },
     "metadata": {},
     "output_type": "execute_result",
     "execution_count": 110
    }
   ],
   "source": [
    "df.shape"
   ],
   "metadata": {
    "collapsed": false,
    "pycharm": {
     "name": "#%%\n",
     "is_executing": false
    }
   }
  },
  {
   "cell_type": "code",
   "execution_count": 8,
   "outputs": [],
   "source": [],
   "metadata": {
    "collapsed": false,
    "pycharm": {
     "name": "#%%\n",
     "is_executing": false
    }
   }
  },
  {
   "cell_type": "code",
   "execution_count": 8,
   "outputs": [],
   "source": [
    "\n"
   ],
   "metadata": {
    "collapsed": false,
    "pycharm": {
     "name": "#%%\n",
     "is_executing": false
    }
   }
  }
 ],
 "metadata": {
  "kernelspec": {
   "display_name": "Python 3",
   "language": "python",
   "name": "python3"
  },
  "language_info": {
   "codemirror_mode": {
    "name": "ipython",
    "version": 2
   },
   "file_extension": ".py",
   "mimetype": "text/x-python",
   "name": "python",
   "nbconvert_exporter": "python",
   "pygments_lexer": "ipython2",
   "version": "2.7.6"
  },
  "pycharm": {
   "stem_cell": {
    "cell_type": "raw",
    "source": [],
    "metadata": {
     "collapsed": false
    }
   }
  }
 },
 "nbformat": 4,
 "nbformat_minor": 0
}